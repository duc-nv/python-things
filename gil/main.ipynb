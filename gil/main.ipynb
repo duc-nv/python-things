{
 "cells": [
  {
   "cell_type": "markdown",
   "metadata": {},
   "source": [
    "## Reference counting"
   ]
  },
  {
   "cell_type": "code",
   "execution_count": 1,
   "metadata": {},
   "outputs": [],
   "source": [
    "import sys"
   ]
  },
  {
   "cell_type": "markdown",
   "metadata": {},
   "source": [
    "### Reference counting"
   ]
  },
  {
   "cell_type": "code",
   "execution_count": 2,
   "metadata": {},
   "outputs": [
    {
     "name": "stdout",
     "output_type": "stream",
     "text": [
      "3\n",
      "2\n"
     ]
    }
   ],
   "source": [
    "def foo():\n",
    "    a = []\n",
    "    b = a\n",
    "    print(sys.getrefcount(a))\n",
    "\n",
    "    del b\n",
    "    print(sys.getrefcount(a))\n",
    "\n",
    "foo()"
   ]
  },
  {
   "cell_type": "markdown",
   "metadata": {},
   "source": [
    "### Reference Cycle"
   ]
  },
  {
   "cell_type": "code",
   "execution_count": 6,
   "metadata": {},
   "outputs": [
    {
     "name": "stdout",
     "output_type": "stream",
     "text": [
      "3\n"
     ]
    }
   ],
   "source": [
    "def foo():\n",
    "    x = []\n",
    "    x.append(x)\n",
    "    print(sys.getrefcount(x))\n",
    "    del x"
   ]
  },
  {
   "cell_type": "markdown",
   "metadata": {},
   "source": [
    "### GC"
   ]
  },
  {
   "attachments": {},
   "cell_type": "markdown",
   "metadata": {},
   "source": [
    "### Mannual GC"
   ]
  },
  {
   "cell_type": "code",
   "execution_count": 8,
   "metadata": {},
   "outputs": [
    {
     "name": "stdout",
     "output_type": "stream",
     "text": [
      "3\n",
      "2\n",
      "GC collected:  0\n"
     ]
    }
   ],
   "source": [
    "!python3 gc.py"
   ]
  },
  {
   "cell_type": "code",
   "execution_count": 9,
   "metadata": {},
   "outputs": [
    {
     "name": "stdout",
     "output_type": "stream",
     "text": [
      "3\n",
      "GC collected:  1\n"
     ]
    }
   ],
   "source": [
    "!python3 gc_ref_cycle.py"
   ]
  },
  {
   "attachments": {},
   "cell_type": "markdown",
   "metadata": {},
   "source": [
    "### Auto GC"
   ]
  },
  {
   "attachments": {},
   "cell_type": "markdown",
   "metadata": {},
   "source": [
    "#allocation - #de-allocation > threshold → run gc"
   ]
  },
  {
   "cell_type": "code",
   "execution_count": 9,
   "metadata": {},
   "outputs": [
    {
     "data": {
      "text/plain": [
       "(700, 10, 10)"
      ]
     },
     "execution_count": 9,
     "metadata": {},
     "output_type": "execute_result"
    }
   ],
   "source": [
    "import gc\n",
    "gc.get_threshold() "
   ]
  },
  {
   "attachments": {},
   "cell_type": "markdown",
   "metadata": {},
   "source": [
    "threshold = 70"
   ]
  },
  {
   "cell_type": "markdown",
   "metadata": {},
   "source": [
    "## GIL"
   ]
  },
  {
   "cell_type": "code",
   "execution_count": 4,
   "metadata": {},
   "outputs": [],
   "source": [
    "import sys"
   ]
  },
  {
   "cell_type": "code",
   "execution_count": 8,
   "metadata": {},
   "outputs": [
    {
     "data": {
      "text/plain": [
       "0.005"
      ]
     },
     "execution_count": 8,
     "metadata": {},
     "output_type": "execute_result"
    }
   ],
   "source": [
    "# get the interpreter’s thread switch interval (in seconds)\n",
    "sys.getswitchinterval()"
   ]
  },
  {
   "cell_type": "markdown",
   "metadata": {},
   "source": [
    "### Why need threading.Lock if we have the GIL?"
   ]
  },
  {
   "cell_type": "code",
   "execution_count": 10,
   "metadata": {},
   "outputs": [],
   "source": [
    "import threading\n",
    "import dis"
   ]
  },
  {
   "cell_type": "markdown",
   "metadata": {},
   "source": [
    "#### Unsafe thread"
   ]
  },
  {
   "cell_type": "code",
   "execution_count": 182,
   "metadata": {},
   "outputs": [
    {
     "name": "stdout",
     "output_type": "stream",
     "text": [
      "488525\n",
      "CPU times: user 30.7 ms, sys: 0 ns, total: 30.7 ms\n",
      "Wall time: 31.1 ms\n"
     ]
    }
   ],
   "source": [
    "%%time\n",
    "class Counter:\n",
    "    def __init__(self):\n",
    "        self.count = 0\n",
    "\n",
    "    def increase(self, n):\n",
    "        for _ in range(n):\n",
    "            self.count += 1\n",
    "\n",
    "counter = Counter()\n",
    "n_increase = 100000\n",
    "n_threads = 5\n",
    "threads = []\n",
    "for i in range(n_threads):\n",
    "    t = threading.Thread(target=counter.increase, args=(n_increase, ))\n",
    "    threads.append(t)\n",
    "\n",
    "for t in threads:\n",
    "    t.start()\n",
    "\n",
    "for t in threads:\n",
    "    t.join()\n",
    "\n",
    "print(counter.count)"
   ]
  },
  {
   "cell_type": "code",
   "execution_count": 133,
   "metadata": {},
   "outputs": [
    {
     "name": "stdout",
     "output_type": "stream",
     "text": [
      "  6           0 LOAD_GLOBAL              0 (range)\n",
      "              2 LOAD_FAST                1 (n)\n",
      "              4 CALL_FUNCTION            1\n",
      "              6 GET_ITER\n",
      "        >>    8 FOR_ITER                18 (to 28)\n",
      "             10 STORE_FAST               2 (_)\n",
      "\n",
      "  7          12 LOAD_FAST                0 (self)\n",
      "             14 DUP_TOP\n",
      "             16 LOAD_ATTR                1 (count)\n",
      "             18 LOAD_CONST               1 (1)\n",
      "             20 INPLACE_ADD\n",
      "             22 ROT_TWO\n",
      "             24 STORE_ATTR               1 (count)\n",
      "             26 JUMP_ABSOLUTE            8\n",
      "        >>   28 LOAD_CONST               0 (None)\n",
      "             30 RETURN_VALUE\n"
     ]
    }
   ],
   "source": [
    "dis.dis(counter.increase)"
   ]
  },
  {
   "attachments": {},
   "cell_type": "markdown",
   "metadata": {},
   "source": [
    "### Atomic operation\n",
    "`sort()` is atomic\n",
    "\n",
    "`+=` is not"
   ]
  },
  {
   "cell_type": "code",
   "execution_count": 17,
   "metadata": {},
   "outputs": [
    {
     "name": "stdout",
     "output_type": "stream",
     "text": [
      "  2           0 LOAD_CONST               1 (1)\n",
      "              2 STORE_FAST               0 (a)\n",
      "\n",
      "  3           4 LOAD_FAST                0 (a)\n",
      "              6 LOAD_CONST               1 (1)\n",
      "              8 INPLACE_ADD\n",
      "             10 STORE_FAST               0 (a)\n",
      "             12 LOAD_CONST               0 (None)\n",
      "             14 RETURN_VALUE\n"
     ]
    }
   ],
   "source": [
    "def foo():\n",
    "    a = 1\n",
    "    a += 1\n",
    "\n",
    "dis.dis(foo)"
   ]
  },
  {
   "cell_type": "code",
   "execution_count": 16,
   "metadata": {},
   "outputs": [
    {
     "name": "stdout",
     "output_type": "stream",
     "text": [
      "  2           0 LOAD_CONST               1 (4)\n",
      "              2 LOAD_CONST               2 (1)\n",
      "              4 BUILD_LIST               2\n",
      "              6 STORE_FAST               0 (lst)\n",
      "\n",
      "  3           8 LOAD_FAST                0 (lst)\n",
      "             10 LOAD_METHOD              0 (sort)\n",
      "             12 CALL_METHOD              0\n",
      "             14 POP_TOP\n",
      "             16 LOAD_CONST               0 (None)\n",
      "             18 RETURN_VALUE\n"
     ]
    }
   ],
   "source": [
    "def foo():\n",
    "    lst = [4, 1]\n",
    "    lst.sort()\n",
    "\n",
    "dis.dis(foo)"
   ]
  },
  {
   "cell_type": "markdown",
   "metadata": {},
   "source": [
    "#### Fix"
   ]
  },
  {
   "cell_type": "code",
   "execution_count": 179,
   "metadata": {},
   "outputs": [
    {
     "name": "stdout",
     "output_type": "stream",
     "text": [
      "500000\n",
      "CPU times: user 243 ms, sys: 234 ms, total: 476 ms\n",
      "Wall time: 287 ms\n"
     ]
    }
   ],
   "source": [
    "%%time\n",
    "class Counter2:\n",
    "    def __init__(self):\n",
    "        self.count = 0\n",
    "        self.lock = threading.Lock()\n",
    "\n",
    "    def increase(self, n):\n",
    "        for _ in range(n):\n",
    "            self.lock.acquire()\n",
    "            self.count += 1\n",
    "            self.lock.release()\n",
    "\n",
    "counter2 = Counter2()\n",
    "n_increase = 100000\n",
    "n_threads = 5\n",
    "threads = []\n",
    "for i in range(n_threads):\n",
    "    t = threading.Thread(target=counter2.increase, args=(n_increase, ))\n",
    "    threads.append(t)\n",
    "\n",
    "for t in threads:\n",
    "    t.start()\n",
    "\n",
    "for t in threads:\n",
    "    t.join()\n",
    "\n",
    "print(counter2.count)"
   ]
  },
  {
   "cell_type": "code",
   "execution_count": 146,
   "metadata": {},
   "outputs": [
    {
     "name": "stdout",
     "output_type": "stream",
     "text": [
      "  7           0 LOAD_GLOBAL              0 (range)\n",
      "              2 LOAD_FAST                1 (n)\n",
      "              4 CALL_FUNCTION            1\n",
      "              6 GET_ITER\n",
      "        >>    8 FOR_ITER                38 (to 48)\n",
      "             10 STORE_FAST               2 (_)\n",
      "\n",
      "  8          12 LOAD_FAST                0 (self)\n",
      "             14 LOAD_ATTR                1 (lock)\n",
      "             16 LOAD_METHOD              2 (acquire)\n",
      "             18 CALL_METHOD              0\n",
      "             20 POP_TOP\n",
      "\n",
      "  9          22 LOAD_FAST                0 (self)\n",
      "             24 DUP_TOP\n",
      "             26 LOAD_ATTR                3 (count)\n",
      "             28 LOAD_CONST               1 (1)\n",
      "             30 INPLACE_ADD\n",
      "             32 ROT_TWO\n",
      "             34 STORE_ATTR               3 (count)\n",
      "\n",
      " 10          36 LOAD_FAST                0 (self)\n",
      "             38 LOAD_ATTR                1 (lock)\n",
      "             40 LOAD_METHOD              4 (release)\n",
      "             42 CALL_METHOD              0\n",
      "             44 POP_TOP\n",
      "             46 JUMP_ABSOLUTE            8\n",
      "        >>   48 LOAD_CONST               0 (None)\n",
      "             50 RETURN_VALUE\n"
     ]
    }
   ],
   "source": [
    "dis.dis(counter2.increase)"
   ]
  },
  {
   "cell_type": "code",
   "execution_count": null,
   "metadata": {},
   "outputs": [],
   "source": []
  }
 ],
 "metadata": {
  "kernelspec": {
   "display_name": "Python 3.8.10 ('venv': venv)",
   "language": "python",
   "name": "python3"
  },
  "language_info": {
   "codemirror_mode": {
    "name": "ipython",
    "version": 3
   },
   "file_extension": ".py",
   "mimetype": "text/x-python",
   "name": "python",
   "nbconvert_exporter": "python",
   "pygments_lexer": "ipython3",
   "version": "3.8.10"
  },
  "orig_nbformat": 4,
  "vscode": {
   "interpreter": {
    "hash": "7970854f1e7a03ac3056266e0af292137b7a89f58699034131f7b6ac58d97d26"
   }
  }
 },
 "nbformat": 4,
 "nbformat_minor": 2
}
